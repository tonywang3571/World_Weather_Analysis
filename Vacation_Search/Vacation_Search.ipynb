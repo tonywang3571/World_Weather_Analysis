{
 "cells": [
  {
   "cell_type": "markdown",
   "metadata": {},
   "source": [
    "## Deliverable 2. Create a Customer Travel Destinations Map."
   ]
  },
  {
   "cell_type": "code",
   "execution_count": 1,
   "metadata": {
    "scrolled": true
   },
   "outputs": [],
   "source": [
    "# Dependencies and Setup\n",
    "import pandas as pd\n",
    "import requests\n",
    "import gmaps\n",
    "import numpy as np\n",
    "\n",
    "# Import API key\n",
    "from config import g_key\n",
    "\n",
    "# Configure gmaps API key\n",
    "gmaps.configure(api_key=g_key)"
   ]
  },
  {
   "cell_type": "code",
   "execution_count": 2,
   "metadata": {
    "scrolled": true
   },
   "outputs": [],
   "source": [
    "# 1. Import the WeatherPy_database.csv file. \n",
    "city_data_df = pd.read_csv(\"Weather_Database/WeatherPy_Database.csv\")\n",
    "#city_data_df.head()"
   ]
  },
  {
   "cell_type": "code",
   "execution_count": 3,
   "metadata": {
    "scrolled": true
   },
   "outputs": [
    {
     "name": "stdout",
     "output_type": "stream",
     "text": [
      "What is the minimum temperature you would like for your trip?: 75\n",
      "What is the maximum temperature you would like for your trip?: 90\n"
     ]
    }
   ],
   "source": [
    "# 2. Prompt the user to enter minimum and maximum temperature criteria \n",
    "min_temp = float(input(\"What is the minimum temperature you would like for your trip?: \"))\n",
    "max_temp = float(input(\"What is the maximum temperature you would like for your trip?: \"))"
   ]
  },
  {
   "cell_type": "code",
   "execution_count": 4,
   "metadata": {
    "scrolled": false
   },
   "outputs": [
    {
     "data": {
      "text/html": [
       "<div>\n",
       "<style scoped>\n",
       "    .dataframe tbody tr th:only-of-type {\n",
       "        vertical-align: middle;\n",
       "    }\n",
       "\n",
       "    .dataframe tbody tr th {\n",
       "        vertical-align: top;\n",
       "    }\n",
       "\n",
       "    .dataframe thead th {\n",
       "        text-align: right;\n",
       "    }\n",
       "</style>\n",
       "<table border=\"1\" class=\"dataframe\">\n",
       "  <thead>\n",
       "    <tr style=\"text-align: right;\">\n",
       "      <th></th>\n",
       "      <th>City_ID</th>\n",
       "      <th>City</th>\n",
       "      <th>Country</th>\n",
       "      <th>Lat</th>\n",
       "      <th>Lng</th>\n",
       "      <th>Max Temp</th>\n",
       "      <th>Humidity</th>\n",
       "      <th>Cloudiness</th>\n",
       "      <th>Wind Speed</th>\n",
       "      <th>Current Description</th>\n",
       "    </tr>\n",
       "  </thead>\n",
       "  <tbody>\n",
       "    <tr>\n",
       "      <th>1</th>\n",
       "      <td>1</td>\n",
       "      <td>Georgetown</td>\n",
       "      <td>MY</td>\n",
       "      <td>5.4112</td>\n",
       "      <td>100.3354</td>\n",
       "      <td>79.90</td>\n",
       "      <td>86</td>\n",
       "      <td>73</td>\n",
       "      <td>4.56</td>\n",
       "      <td>broken clouds</td>\n",
       "    </tr>\n",
       "    <tr>\n",
       "      <th>4</th>\n",
       "      <td>4</td>\n",
       "      <td>Montecristo</td>\n",
       "      <td>CO</td>\n",
       "      <td>8.2971</td>\n",
       "      <td>-74.4733</td>\n",
       "      <td>84.97</td>\n",
       "      <td>71</td>\n",
       "      <td>84</td>\n",
       "      <td>3.76</td>\n",
       "      <td>broken clouds</td>\n",
       "    </tr>\n",
       "    <tr>\n",
       "      <th>5</th>\n",
       "      <td>5</td>\n",
       "      <td>Campos Novos</td>\n",
       "      <td>BR</td>\n",
       "      <td>-27.4017</td>\n",
       "      <td>-51.2250</td>\n",
       "      <td>79.90</td>\n",
       "      <td>46</td>\n",
       "      <td>32</td>\n",
       "      <td>6.60</td>\n",
       "      <td>scattered clouds</td>\n",
       "    </tr>\n",
       "    <tr>\n",
       "      <th>8</th>\n",
       "      <td>8</td>\n",
       "      <td>Lucea</td>\n",
       "      <td>JM</td>\n",
       "      <td>18.4510</td>\n",
       "      <td>-78.1736</td>\n",
       "      <td>82.85</td>\n",
       "      <td>69</td>\n",
       "      <td>100</td>\n",
       "      <td>5.14</td>\n",
       "      <td>overcast clouds</td>\n",
       "    </tr>\n",
       "    <tr>\n",
       "      <th>13</th>\n",
       "      <td>13</td>\n",
       "      <td>The Valley</td>\n",
       "      <td>AI</td>\n",
       "      <td>18.2170</td>\n",
       "      <td>-63.0578</td>\n",
       "      <td>84.09</td>\n",
       "      <td>74</td>\n",
       "      <td>40</td>\n",
       "      <td>11.50</td>\n",
       "      <td>scattered clouds</td>\n",
       "    </tr>\n",
       "  </tbody>\n",
       "</table>\n",
       "</div>"
      ],
      "text/plain": [
       "    City_ID          City Country      Lat       Lng  Max Temp  Humidity  \\\n",
       "1         1    Georgetown      MY   5.4112  100.3354     79.90        86   \n",
       "4         4   Montecristo      CO   8.2971  -74.4733     84.97        71   \n",
       "5         5  Campos Novos      BR -27.4017  -51.2250     79.90        46   \n",
       "8         8         Lucea      JM  18.4510  -78.1736     82.85        69   \n",
       "13       13    The Valley      AI  18.2170  -63.0578     84.09        74   \n",
       "\n",
       "    Cloudiness  Wind Speed Current Description  \n",
       "1           73        4.56       broken clouds  \n",
       "4           84        3.76       broken clouds  \n",
       "5           32        6.60    scattered clouds  \n",
       "8          100        5.14     overcast clouds  \n",
       "13          40       11.50    scattered clouds  "
      ]
     },
     "execution_count": 4,
     "metadata": {},
     "output_type": "execute_result"
    }
   ],
   "source": [
    "# 3. Filter the city_data_df DataFrame using the input statements to create a new DataFrame using the loc method.\n",
    "preferred_cities_df = city_data_df.loc[(city_data_df[\"Max Temp\"] <= max_temp) & (city_data_df[\"Max Temp\"] >= min_temp)]\n",
    "preferred_cities_df.head()"
   ]
  },
  {
   "cell_type": "code",
   "execution_count": 5,
   "metadata": {
    "scrolled": true
   },
   "outputs": [
    {
     "data": {
      "text/plain": [
       "City_ID                0\n",
       "City                   0\n",
       "Country                5\n",
       "Lat                    0\n",
       "Lng                    0\n",
       "Max Temp               0\n",
       "Humidity               0\n",
       "Cloudiness             0\n",
       "Wind Speed             0\n",
       "Current Description    0\n",
       "dtype: int64"
      ]
     },
     "execution_count": 5,
     "metadata": {},
     "output_type": "execute_result"
    }
   ],
   "source": [
    "# 4a. Determine if there are any empty rows.\n",
    "preferred_cities_df.isnull().sum()"
   ]
  },
  {
   "cell_type": "code",
   "execution_count": 6,
   "metadata": {
    "scrolled": true
   },
   "outputs": [
    {
     "data": {
      "text/plain": [
       "City_ID                0\n",
       "City                   0\n",
       "Country                0\n",
       "Lat                    0\n",
       "Lng                    0\n",
       "Max Temp               0\n",
       "Humidity               0\n",
       "Cloudiness             0\n",
       "Wind Speed             0\n",
       "Current Description    0\n",
       "dtype: int64"
      ]
     },
     "execution_count": 6,
     "metadata": {},
     "output_type": "execute_result"
    }
   ],
   "source": [
    "# 4b. Drop any empty rows and create a new DataFrame that doesn’t have empty rows.\n",
    "clean_preferred_cities_df = preferred_cities_df.dropna()\n",
    "clean_preferred_cities_df.isnull().sum()"
   ]
  },
  {
   "cell_type": "code",
   "execution_count": 7,
   "metadata": {
    "scrolled": true
   },
   "outputs": [
    {
     "data": {
      "text/html": [
       "<div>\n",
       "<style scoped>\n",
       "    .dataframe tbody tr th:only-of-type {\n",
       "        vertical-align: middle;\n",
       "    }\n",
       "\n",
       "    .dataframe tbody tr th {\n",
       "        vertical-align: top;\n",
       "    }\n",
       "\n",
       "    .dataframe thead th {\n",
       "        text-align: right;\n",
       "    }\n",
       "</style>\n",
       "<table border=\"1\" class=\"dataframe\">\n",
       "  <thead>\n",
       "    <tr style=\"text-align: right;\">\n",
       "      <th></th>\n",
       "      <th>City</th>\n",
       "      <th>Country</th>\n",
       "      <th>Max Temp</th>\n",
       "      <th>Current Description</th>\n",
       "      <th>Lat</th>\n",
       "      <th>Lng</th>\n",
       "      <th>Hotel Name</th>\n",
       "    </tr>\n",
       "  </thead>\n",
       "  <tbody>\n",
       "    <tr>\n",
       "      <th>1</th>\n",
       "      <td>Georgetown</td>\n",
       "      <td>MY</td>\n",
       "      <td>79.90</td>\n",
       "      <td>broken clouds</td>\n",
       "      <td>5.4112</td>\n",
       "      <td>100.3354</td>\n",
       "      <td></td>\n",
       "    </tr>\n",
       "    <tr>\n",
       "      <th>4</th>\n",
       "      <td>Montecristo</td>\n",
       "      <td>CO</td>\n",
       "      <td>84.97</td>\n",
       "      <td>broken clouds</td>\n",
       "      <td>8.2971</td>\n",
       "      <td>-74.4733</td>\n",
       "      <td></td>\n",
       "    </tr>\n",
       "    <tr>\n",
       "      <th>5</th>\n",
       "      <td>Campos Novos</td>\n",
       "      <td>BR</td>\n",
       "      <td>79.90</td>\n",
       "      <td>scattered clouds</td>\n",
       "      <td>-27.4017</td>\n",
       "      <td>-51.2250</td>\n",
       "      <td></td>\n",
       "    </tr>\n",
       "    <tr>\n",
       "      <th>8</th>\n",
       "      <td>Lucea</td>\n",
       "      <td>JM</td>\n",
       "      <td>82.85</td>\n",
       "      <td>overcast clouds</td>\n",
       "      <td>18.4510</td>\n",
       "      <td>-78.1736</td>\n",
       "      <td></td>\n",
       "    </tr>\n",
       "    <tr>\n",
       "      <th>13</th>\n",
       "      <td>The Valley</td>\n",
       "      <td>AI</td>\n",
       "      <td>84.09</td>\n",
       "      <td>scattered clouds</td>\n",
       "      <td>18.2170</td>\n",
       "      <td>-63.0578</td>\n",
       "      <td></td>\n",
       "    </tr>\n",
       "    <tr>\n",
       "      <th>19</th>\n",
       "      <td>Saint-Philippe</td>\n",
       "      <td>RE</td>\n",
       "      <td>76.59</td>\n",
       "      <td>overcast clouds</td>\n",
       "      <td>-21.3585</td>\n",
       "      <td>55.7679</td>\n",
       "      <td></td>\n",
       "    </tr>\n",
       "    <tr>\n",
       "      <th>21</th>\n",
       "      <td>Morondava</td>\n",
       "      <td>MG</td>\n",
       "      <td>80.64</td>\n",
       "      <td>few clouds</td>\n",
       "      <td>-20.2833</td>\n",
       "      <td>44.2833</td>\n",
       "      <td></td>\n",
       "    </tr>\n",
       "    <tr>\n",
       "      <th>22</th>\n",
       "      <td>Cape Town</td>\n",
       "      <td>ZA</td>\n",
       "      <td>76.26</td>\n",
       "      <td>scattered clouds</td>\n",
       "      <td>-33.9258</td>\n",
       "      <td>18.4232</td>\n",
       "      <td></td>\n",
       "    </tr>\n",
       "    <tr>\n",
       "      <th>26</th>\n",
       "      <td>Mahebourg</td>\n",
       "      <td>MU</td>\n",
       "      <td>79.25</td>\n",
       "      <td>overcast clouds</td>\n",
       "      <td>-20.4081</td>\n",
       "      <td>57.7000</td>\n",
       "      <td></td>\n",
       "    </tr>\n",
       "    <tr>\n",
       "      <th>28</th>\n",
       "      <td>Axim</td>\n",
       "      <td>GH</td>\n",
       "      <td>83.28</td>\n",
       "      <td>overcast clouds</td>\n",
       "      <td>4.8699</td>\n",
       "      <td>-2.2405</td>\n",
       "      <td></td>\n",
       "    </tr>\n",
       "  </tbody>\n",
       "</table>\n",
       "</div>"
      ],
      "text/plain": [
       "              City Country  Max Temp Current Description      Lat       Lng  \\\n",
       "1       Georgetown      MY     79.90       broken clouds   5.4112  100.3354   \n",
       "4      Montecristo      CO     84.97       broken clouds   8.2971  -74.4733   \n",
       "5     Campos Novos      BR     79.90    scattered clouds -27.4017  -51.2250   \n",
       "8            Lucea      JM     82.85     overcast clouds  18.4510  -78.1736   \n",
       "13      The Valley      AI     84.09    scattered clouds  18.2170  -63.0578   \n",
       "19  Saint-Philippe      RE     76.59     overcast clouds -21.3585   55.7679   \n",
       "21       Morondava      MG     80.64          few clouds -20.2833   44.2833   \n",
       "22       Cape Town      ZA     76.26    scattered clouds -33.9258   18.4232   \n",
       "26       Mahebourg      MU     79.25     overcast clouds -20.4081   57.7000   \n",
       "28            Axim      GH     83.28     overcast clouds   4.8699   -2.2405   \n",
       "\n",
       "   Hotel Name  \n",
       "1              \n",
       "4              \n",
       "5              \n",
       "8              \n",
       "13             \n",
       "19             \n",
       "21             \n",
       "22             \n",
       "26             \n",
       "28             "
      ]
     },
     "execution_count": 7,
     "metadata": {},
     "output_type": "execute_result"
    }
   ],
   "source": [
    "# 5a. Create DataFrame called hotel_df to store hotel names along with city, country, max temp, and coordinates.\n",
    "hotel_df = clean_preferred_cities_df[[\"City\", \"Country\", \"Max Temp\", \"Current Description\", \"Lat\", \"Lng\"]].copy()\n",
    "\n",
    "# 5b. Create a new column \"Hotel Name\"\n",
    "hotel_df[\"Hotel Name\"] = \"\"\n",
    "hotel_df.head(10)"
   ]
  },
  {
   "cell_type": "code",
   "execution_count": 8,
   "metadata": {
    "scrolled": true
   },
   "outputs": [
    {
     "name": "stdout",
     "output_type": "stream",
     "text": [
      "Hotel not found...skipping...\n",
      "Hotel not found...skipping...\n",
      "Hotel not found...skipping...\n",
      "Hotel not found...skipping...\n",
      "Hotel not found...skipping...\n",
      "Hotel not found...skipping...\n",
      "Hotel not found...skipping...\n",
      "Hotel not found...skipping...\n",
      "Hotel not found...skipping...\n",
      "Hotel not found...skipping...\n",
      "Hotel not found...skipping...\n",
      "Hotel not found...skipping...\n",
      "Hotel not found...skipping...\n",
      "Hotel not found...skipping...\n",
      "Hotel not found...skipping...\n",
      "Hotel not found...skipping...\n",
      "Hotel not found...skipping...\n",
      "Hotel not found...skipping...\n",
      "Hotel not found...skipping...\n",
      "Hotel not found...skipping...\n",
      "Hotel not found...skipping...\n"
     ]
    }
   ],
   "source": [
    "# 6a. Set parameters to search for hotels with 5000 meters.\n",
    "params = {\n",
    "    \"radius\": 5000,\n",
    "    \"type\": \"lodging\",\n",
    "    \"key\": g_key\n",
    "}\n",
    "\n",
    "# 6b. Iterate through the hotel DataFrame.\n",
    "for index, row in hotel_df.iterrows():\n",
    "    # 6c. Get latitude and longitude from DataFrame\n",
    "    lat = row[\"Lat\"]\n",
    "    lng = row[\"Lng\"]\n",
    "    params[\"location\"] = f\"{lat}, {lng}\"\n",
    "    \n",
    "    # 6d. Set up the base URL for the Google Directions API to get JSON data.\n",
    "    base_url = \"https://maps.googleapis.com/maps/api/place/nearbysearch/json\"\n",
    "\n",
    "    # 6e. Make request and retrieve the JSON data from the search. \n",
    "    hotels = requests.get(base_url, params=params).json()\n",
    "    \n",
    "    # 6f. Get the first hotel from the results and store the name, if a hotel isn't found skip the city.\n",
    "    try:\n",
    "        hotel_df.loc[index, \"Hotel Name\"] = hotels[\"results\"][0][\"name\"]\n",
    "    except(IndexError):\n",
    "        print(\"Hotel not found...skipping...\")\n",
    "        "
   ]
  },
  {
   "cell_type": "code",
   "execution_count": 10,
   "metadata": {
    "scrolled": true
   },
   "outputs": [
    {
     "data": {
      "text/plain": [
       "City                   0\n",
       "Country                0\n",
       "Max Temp               0\n",
       "Current Description    0\n",
       "Lat                    0\n",
       "Lng                    0\n",
       "Hotel Name             0\n",
       "dtype: int64"
      ]
     },
     "execution_count": 10,
     "metadata": {},
     "output_type": "execute_result"
    }
   ],
   "source": [
    "# 7. Drop the rows where there is no Hotel Name.\n",
    "clean_hotel_df = hotel_df.replace(\"\", np.nan, regex=True)\n",
    "clean_hotel_df = clean_hotel_df.dropna()\n",
    "clean_hotel_df.isnull().sum()"
   ]
  },
  {
   "cell_type": "code",
   "execution_count": 11,
   "metadata": {
    "scrolled": true
   },
   "outputs": [],
   "source": [
    "# 8a. Create the output File (CSV)\n",
    "output_data_file = \"Vacation_Search/WeatherPy_Vacation.csv\"\n",
    "\n",
    "# 8b. Export the City_Data into a csv\n",
    "clean_hotel_df.to_csv(output_data_file, index_label=\"City_ID\")"
   ]
  },
  {
   "cell_type": "code",
   "execution_count": 12,
   "metadata": {
    "scrolled": true
   },
   "outputs": [],
   "source": [
    "# 9. Using the template add city name, the country code, the weather description and maximum temperature for the city.\n",
    "info_box_template = \"\"\"\n",
    "<dl>\n",
    "<dt>Hotel Name</dt><dd>{Hotel Name}</dd>\n",
    "<dt>City</dt><dd>{City}</dd>\n",
    "<dt>Country</dt><dd>{Country}</dd>\n",
    "<dt>Weather</dt><dd>{Current Description}</dd>\n",
    "<dt>Max Temp</dt><dd>{Max Temp} °F</dd>\n",
    "</dl>\n",
    "\"\"\"\n",
    "\n",
    "# 10a. Get the data from each row and add it to the formatting template and store the data in a list.\n",
    "hotel_info = [info_box_template.format(**row) for index, row in clean_hotel_df.iterrows()]\n",
    "\n",
    "# 10b. Get the latitude and longitude from each row and store in a new DataFrame.\n",
    "locations = clean_hotel_df[[\"Lat\", \"Lng\"]]"
   ]
  },
  {
   "cell_type": "code",
   "execution_count": 13,
   "metadata": {
    "scrolled": false
   },
   "outputs": [
    {
     "data": {
      "application/vnd.jupyter.widget-view+json": {
       "model_id": "d2e0399696b440318069954d220624ce",
       "version_major": 2,
       "version_minor": 0
      },
      "text/plain": [
       "Figure(layout=FigureLayout(height='420px'))"
      ]
     },
     "metadata": {},
     "output_type": "display_data"
    }
   ],
   "source": [
    "# 11a. Add a marker layer for each city to the map. \n",
    "locations = clean_hotel_df[[\"Lat\", \"Lng\"]]\n",
    "fig = gmaps.figure(center=(30.0, 31.0), zoom_level=1.5)\n",
    "marker_layer = gmaps.marker_layer(locations, info_box_content=hotel_info)\n",
    "fig.add_layer(marker_layer)\n",
    "\n",
    "# 11b. Display the figure\n",
    "fig"
   ]
  },
  {
   "cell_type": "code",
   "execution_count": null,
   "metadata": {
    "scrolled": true
   },
   "outputs": [],
   "source": []
  },
  {
   "cell_type": "code",
   "execution_count": null,
   "metadata": {
    "scrolled": true
   },
   "outputs": [],
   "source": []
  }
 ],
 "metadata": {
  "kernelspec": {
   "display_name": "PythonData",
   "language": "python",
   "name": "pythondata"
  },
  "language_info": {
   "codemirror_mode": {
    "name": "ipython",
    "version": 3
   },
   "file_extension": ".py",
   "mimetype": "text/x-python",
   "name": "python",
   "nbconvert_exporter": "python",
   "pygments_lexer": "ipython3",
   "version": "3.9.7"
  },
  "latex_envs": {
   "LaTeX_envs_menu_present": true,
   "autoclose": false,
   "autocomplete": true,
   "bibliofile": "biblio.bib",
   "cite_by": "apalike",
   "current_citInitial": 1,
   "eqLabelWithNumbers": true,
   "eqNumInitial": 1,
   "hotkeys": {
    "equation": "Ctrl-E",
    "itemize": "Ctrl-I"
   },
   "labels_anchors": false,
   "latex_user_defs": false,
   "report_style_numbering": false,
   "user_envs_cfg": false
  }
 },
 "nbformat": 4,
 "nbformat_minor": 2
}
